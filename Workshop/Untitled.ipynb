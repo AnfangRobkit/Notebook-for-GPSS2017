{
 "cells": [
  {
   "cell_type": "code",
   "execution_count": 48,
   "metadata": {},
   "outputs": [],
   "source": [
    "import numpy as np\n",
    "import GPy\n",
    "import math"
   ]
  },
  {
   "cell_type": "code",
   "execution_count": 49,
   "metadata": {},
   "outputs": [],
   "source": [
    "last_state=np.array([[-0.03433176, -5.16552294,  0.99939083, -0.0348995 ,  6.90233291,\n",
    "             5.11905123],\n",
    "           [-0.1451667 , -5.14079246,  0.99939083, -0.0348995 ,  6.99009626,\n",
    "             5.10679236],\n",
    "           [-0.1980269 , -5.11772757,  0.99756405, -0.06975647,  6.9874905 ,\n",
    "             5.09024185],\n",
    "           [-0.22321358, -5.08962549,  0.99756405, -0.06975647,  7.0128794 ,\n",
    "             5.07051226],\n",
    "           [-0.2174193 , -5.04679767,  0.9945219 , -0.10452846,  7.01022064,\n",
    "             5.05732956],\n",
    "           [-0.22358937, -5.00886088,  0.99254615, -0.12186934,  7.00870113,\n",
    "             5.04514437],\n",
    "           [-0.13832238, -4.96395747,  0.99026807, -0.1391731 ,  7.00649795,\n",
    "             5.04038418],\n",
    "           [-0.06820388, -4.91761054,  0.98768834, -0.15643447,  7.00418579,\n",
    "             5.05927716]])"
   ]
  },
  {
   "cell_type": "code",
   "execution_count": 53,
   "metadata": {},
   "outputs": [],
   "source": [
    "x = last_state[:,0]\n",
    "y = last_state[:,1]\n",
    "length = last_state[:,2]\n",
    "width = last_state[:,3]\n",
    "theta = [math.atan2(sin,cos) for sin,cos in zip(last_state[:,4],last_state[:,5])]"
   ]
  },
  {
   "cell_type": "code",
   "execution_count": 56,
   "metadata": {},
   "outputs": [
    {
     "name": "stdout",
     "output_type": "stream",
     "text": [
      "[[-0.03433176]\n",
      " [-0.1451667 ]\n",
      " [-0.1980269 ]\n",
      " [-0.22321358]\n",
      " [-0.2174193 ]\n",
      " [-0.22358937]\n",
      " [-0.13832238]\n",
      " [-0.06820388]]\n"
     ]
    }
   ],
   "source": [
    "col_x = np.array(x).reshape(-1,1)\n",
    "col_y = np.array(y).reshape(-1,1)\n",
    "col_theta = np.array(theta).reshape(-1,1)\n"
   ]
  },
  {
   "cell_type": "code",
   "execution_count": 34,
   "metadata": {},
   "outputs": [
    {
     "name": "stdout",
     "output_type": "stream",
     "text": [
      "[[0. ]\n",
      " [0.2]\n",
      " [0.4]\n",
      " [0.6]\n",
      " [0.8]\n",
      " [1. ]\n",
      " [1.2]\n",
      " [1.4]]\n"
     ]
    }
   ],
   "source": [
    "Input1D = np.array(np.arange(0,1.6,0.2)).reshape(-1,1)\n",
    "print(Input1D)"
   ]
  },
  {
   "cell_type": "code",
   "execution_count": 35,
   "metadata": {},
   "outputs": [
    {
     "data": {
      "text/plain": [
       "<paramz.optimization.optimization.opt_lbfgsb at 0x22ecda585c0>"
      ]
     },
     "execution_count": 35,
     "metadata": {},
     "output_type": "execute_result"
    }
   ],
   "source": [
    "k = GPy.kern.Matern32(1)\n",
    "m1 = GPy.models.GPRegression(Input1D,col_x,kernel=k)\n",
    "m1.optimize()"
   ]
  },
  {
   "cell_type": "code",
   "execution_count": 42,
   "metadata": {},
   "outputs": [
    {
     "name": "stdout",
     "output_type": "stream",
     "text": [
      "[[1.6]]\n"
     ]
    }
   ],
   "source": [
    "test_input = np.array([1.6]).reshape(-1,1)\n",
    "print(test_input)"
   ]
  },
  {
   "cell_type": "code",
   "execution_count": 43,
   "metadata": {},
   "outputs": [
    {
     "data": {
      "text/plain": [
       "(array([[-0.02783341]]), array([[0.00188701]]))"
      ]
     },
     "execution_count": 43,
     "metadata": {},
     "output_type": "execute_result"
    }
   ],
   "source": [
    "m1.predict(test_input)"
   ]
  },
  {
   "cell_type": "code",
   "execution_count": 47,
   "metadata": {},
   "outputs": [
    {
     "data": {
      "text/plain": [
       "(array([[-4.87186505]]), array([[5.6880395e-05]]))"
      ]
     },
     "execution_count": 47,
     "metadata": {},
     "output_type": "execute_result"
    }
   ],
   "source": [
    "k = GPy.kern.Matern32(1)\n",
    "m2 = GPy.models.GPRegression(Input1D,col_y,kernel=k)\n",
    "m2.optimize()\n",
    "m2.predict(test_input)"
   ]
  },
  {
   "cell_type": "code",
   "execution_count": 64,
   "metadata": {},
   "outputs": [],
   "source": [
    "index = np.asarray([np.zeros((6,1))+i for i in range(4)]).reshape(-1,1)\n",
    "# print(index)\n",
    "# print(type(index),len(index))"
   ]
  },
  {
   "cell_type": "code",
   "execution_count": null,
   "metadata": {},
   "outputs": [],
   "source": []
  },
  {
   "cell_type": "code",
   "execution_count": null,
   "metadata": {},
   "outputs": [],
   "source": []
  }
 ],
 "metadata": {
  "kernelspec": {
   "display_name": "Python 3",
   "language": "python",
   "name": "python3"
  },
  "language_info": {
   "codemirror_mode": {
    "name": "ipython",
    "version": 3
   },
   "file_extension": ".py",
   "mimetype": "text/x-python",
   "name": "python",
   "nbconvert_exporter": "python",
   "pygments_lexer": "ipython3",
   "version": "3.7.3"
  }
 },
 "nbformat": 4,
 "nbformat_minor": 2
}
